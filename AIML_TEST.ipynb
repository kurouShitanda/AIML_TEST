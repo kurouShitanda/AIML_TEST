{
 "cells": [
  {
   "cell_type": "code",
   "execution_count": null,
   "metadata": {},
   "outputs": [
    {
     "name": "stdout",
     "output_type": "stream",
     "text": [
      "Loading std-startup.xml...done (0.00 seconds)\n",
      "Loading basic.aiml...done (0.00 seconds)\n",
      "Loading srai.aiml...done (0.00 seconds)\n",
      "Loading star.aiml...done (0.00 seconds)\n",
      "入力 >> タコ社長 って誰か知ってる？\n",
      "タコ社長は男はつらいよの登場人物で、印刷会社「朝日印刷所」の社長で寅次郎の幼馴染の桂梅太郎だよ。\n"
     ]
    }
   ],
   "source": [
    "import aiml\n",
    "\n",
    "kernel = aiml.Kernel() # カーネル\n",
    "kernel.learn(\"std-startup.xml\") # aimlファイルを読み込むxml\n",
    "# ファイルをリロードさせるときはこれを呼ぶ\n",
    "kernel.respond(\"load aiml b\")\n",
    "\n",
    "print(kernel.respond(input(\"入力 >> \")))"
   ]
  },
  {
   "cell_type": "code",
   "execution_count": null,
   "metadata": {
    "collapsed": true
   },
   "outputs": [],
   "source": [
    "\"\"\" \n",
    "入力例:\n",
    " basic.aiml -> こんにちは\n",
    " star.aiml -> 私は 道端 で こけ ました\n",
    " srai.aiml -> タコ社長 って誰か知ってる？\n",
    "\"\"\""
   ]
  }
 ],
 "metadata": {
  "kernelspec": {
   "display_name": "Python 3",
   "language": "python",
   "name": "python3"
  },
  "language_info": {
   "codemirror_mode": {
    "name": "ipython",
    "version": 3
   },
   "file_extension": ".py",
   "mimetype": "text/x-python",
   "name": "python",
   "nbconvert_exporter": "python",
   "pygments_lexer": "ipython3",
   "version": "3.6.3"
  }
 },
 "nbformat": 4,
 "nbformat_minor": 2
}
