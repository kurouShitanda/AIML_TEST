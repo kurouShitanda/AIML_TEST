{
 "cells": [
  {
   "cell_type": "code",
   "execution_count": null,
   "metadata": {},
   "outputs": [],
   "source": [
    "import aiml\n",
    "\n",
    "kernel = aiml.Kernel() # カーネル\n",
    "kernel.learn(\"std-startup.xml\") # aimlファイルを読み込むxml\n",
    "# ファイルをリロードさせるときはこれを呼ぶ\n",
    "kernel.respond(\"load aiml b\")\n",
    "\n",
    "print(kernel.respond(input(\"入力 >> \")))\n",
    "print(kernel.respond(input(\"入力2 >> \")))\n",
    "print(kernel.respond(input(\"入力3 >> \")))"
   ]
  },
  {
   "cell_type": "code",
   "execution_count": null,
   "metadata": {},
   "outputs": [],
   "source": [
    "\"\"\" \n",
    "入力例:\n",
    " basic.aiml -> こんにちは\n",
    " \n",
    " star.aiml  -> 私は 道端 で こけ ました\n",
    " \n",
    " srai.aiml  -> タコ社長 って誰か知ってる？\n",
    "               さようなら じゃあね\n",
    "               つらい\n",
    "               お菓子 好きかい？\n",
    "               \n",
    " random_setget.aiml  -> こんにちは！\n",
    "                     -> おやすみー\n",
    "                     -> 私は おじさん\n",
    "                     -> おやすみー\n",
    "                     \n",
    " that.aiml  -> 映画に興味ある？\n",
    "            -> うん\n",
    "            -> いや\n",
    "\n",
    " think.aiml  -> 私の 名前は おじさん\n",
    "             -> さようならー\n",
    "\n",
    " think.aiml  -> 私の 名前は おじさん\n",
    "             -> さようならー\n",
    "\n",
    " condition.aiml  -> 今日はどう？\n",
    "\"\"\""
   ]
  }
 ],
 "metadata": {
  "kernelspec": {
   "display_name": "Python 3",
   "language": "python",
   "name": "python3"
  },
  "language_info": {
   "codemirror_mode": {
    "name": "ipython",
    "version": 3
   },
   "file_extension": ".py",
   "mimetype": "text/x-python",
   "name": "python",
   "nbconvert_exporter": "python",
   "pygments_lexer": "ipython3",
   "version": "3.6.3"
  }
 },
 "nbformat": 4,
 "nbformat_minor": 2
}
